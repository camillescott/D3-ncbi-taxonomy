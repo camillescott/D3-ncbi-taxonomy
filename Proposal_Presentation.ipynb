{
 "cells": [
  {
   "cell_type": "markdown",
   "metadata": {
    "slideshow": {
     "slide_type": "slide"
    }
   },
   "source": [
    "---\n",
    "# A Novel de novo Transcriptome Visualization\n",
    "## Project Proposal\n",
    "-----\n",
    "#### Camille Scott\n",
    "#### Lab for Data Intensive Biology\n",
    "#### UC Davis\n",
    "---"
   ]
  },
  {
   "cell_type": "markdown",
   "metadata": {
    "slideshow": {
     "slide_type": "slide"
    }
   },
   "source": [
    "---\n",
    "## Background\n",
    "\n",
    "* A transcriptome is the set of RNA sequences which are \"expressed\" by an organism\n",
    "* In contrast to a *genome*, which is the set of DNA sequences in an organism\n",
    "* Transcriptomes are generated from the same data as genomes, and many transcriptomes are being published every day\n",
    "---"
   ]
  },
  {
   "cell_type": "markdown",
   "metadata": {
    "slideshow": {
     "slide_type": "slide"
    }
   },
   "source": [
    "![dogma](https://d2gne97vdumgn3.cloudfront.net/api/file/fjFYnUJEQxmhyo2b10h2)\n",
    "<center>*image courtesy wikipedia commons.*</center>"
   ]
  },
  {
   "cell_type": "markdown",
   "metadata": {
    "slideshow": {
     "slide_type": "slide"
    }
   },
   "source": [
    "## Motivation\n",
    "\n",
    "* Transcriptome sequencing (\"RNA-seq\") is cheaper and more accessible than complete genome sequencing.\n",
    "* Though many are being published, there are fewer accepted standards and protocols for them.\n",
    "* Especially difficult is quickly assessing and comparing different results: there is no \"canonical\" transcriptome visualization\n",
    "* Several approaches exist for producing short numerical reports (such as [transrate](http://hibberdlab.com/transrate/)), but few or none that I'm aware of for generating visualizations."
   ]
  },
  {
   "cell_type": "markdown",
   "metadata": {
    "slideshow": {
     "slide_type": "slide"
    }
   },
   "source": [
    "## The Project\n",
    "\n",
    "* I aim to develop a new method for producing summary visualizations of transcriptomes based on established phylogenetic methods.\n",
    "* This will serve as a means of assessing the *annotation quality* of a transcriptome, and indirectly assessing the *assembly quality*.\n",
    "* This method will project annotated genes on a known phylogeny to give an at-a-glance view of annotation quality."
   ]
  },
  {
   "cell_type": "markdown",
   "metadata": {
    "slideshow": {
     "slide_type": "subslide"
    }
   },
   "source": [
    "### An example pylogeny rendered as a sunburst\n",
    "\n",
    "* The following is an example of the ITIS phylogeny rendered as a sunburst using d3. The final product will have sizing based on the number of annotated genes for a clade and coloring based on kingdom.\n",
    "* I also aim to use a measurement of pylogenetic signal to produce quantitative results."
   ]
  },
  {
   "cell_type": "markdown",
   "metadata": {
    "slideshow": {
     "slide_type": "subslide"
    }
   },
   "source": [
    "![example](example.png)"
   ]
  },
  {
   "cell_type": "markdown",
   "metadata": {
    "slideshow": {
     "slide_type": "slide"
    }
   },
   "source": [
    "## Challenges\n",
    "\n",
    "* There are many phylogenetic methods and varying quality within existing phylogenies.\n",
    "* Performance on such large trees could be an issue.\n",
    "* Assessing the intuitiveness of the method is an open question."
   ]
  },
  {
   "cell_type": "markdown",
   "metadata": {
    "slideshow": {
     "slide_type": "slide"
    }
   },
   "source": [
    "## Further Work\n",
    "\n",
    "This method will be implemented within the framework of an existing annotator that I maintain: https://github.com/camillescott/dammit\n",
    "\n",
    "It will be implemented along with a more feature-complete annotation explorer. Using this existing annotator alleviates a lot of the installation burden for potential users and provides a way of testing the method on many different datasets in a manner which is alread automated."
   ]
  },
  {
   "cell_type": "markdown",
   "metadata": {
    "slideshow": {
     "slide_type": "subslide"
    }
   },
   "source": [
    "### Implementation Details\n",
    "\n",
    "* The annotator is implemented in Python.\n",
    "* Web serving will be done through the python library flask.\n",
    "* "
   ]
  }
 ],
 "metadata": {
  "celltoolbar": "Slideshow",
  "kernelspec": {
   "display_name": "Python 2",
   "language": "python",
   "name": "python2"
  },
  "language_info": {
   "codemirror_mode": {
    "name": "ipython",
    "version": 2
   },
   "file_extension": ".py",
   "mimetype": "text/x-python",
   "name": "python",
   "nbconvert_exporter": "python",
   "pygments_lexer": "ipython2",
   "version": "2.7.11"
  }
 },
 "nbformat": 4,
 "nbformat_minor": 0
}
