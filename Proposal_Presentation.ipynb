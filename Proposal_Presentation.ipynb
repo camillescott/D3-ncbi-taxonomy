{
 "cells": [
  {
   "cell_type": "markdown",
   "metadata": {
    "slideshow": {
     "slide_type": "slide"
    }
   },
   "source": [
    "---\n",
    "# A Novel de novo Transcriptome Visualization\n",
    "## Project Proposal\n",
    "-----\n",
    "#### Camille Scott\n",
    "#### Lab for Data Intensive Biology\n",
    "#### UC Davis\n",
    "---"
   ]
  },
  {
   "cell_type": "markdown",
   "metadata": {
    "slideshow": {
     "slide_type": "slide"
    }
   },
   "source": [
    "---\n",
    "## Background\n",
    "\n",
    "* A transcriptome is the set of RNA sequences which are \"expressed\" by an organism\n",
    "* In contrast to a *genome*, which is the set of DNA sequences in an organism\n",
    "* Transcriptomes are generated from the same data as genomes, and many transcriptomes are being published every day\n",
    "---"
   ]
  },
  {
   "cell_type": "markdown",
   "metadata": {
    "slideshow": {
     "slide_type": "subslide"
    }
   },
   "source": [
    "<center>\n",
    "![dogma](https://d2gne97vdumgn3.cloudfront.net/api/file/fjFYnUJEQxmhyo2b10h2)\n",
    "</center>\n",
    "from wikipedia commons"
   ]
  },
  {
   "cell_type": "markdown",
   "metadata": {
    "slideshow": {
     "slide_type": "subslide"
    }
   },
   "source": [
    "<center>\n",
    "![cdna](http://www.discoveryandinnovation.com/BIOL202/notes/images/gene_model1.jpg)\n",
    "</center>\n",
    "from http://www.discoveryandinnovation.com/BIOL202/notes/lecture24.html"
   ]
  },
  {
   "cell_type": "markdown",
   "metadata": {
    "slideshow": {
     "slide_type": "slide"
    }
   },
   "source": [
    "## Motivation\n",
    "\n",
    "* Transcriptome sequencing (\"RNA-seq\") is cheaper and more accessible than complete genome sequencing.\n",
    "* Though many are being published, there are fewer accepted standards and protocols for them.\n",
    "* Especially difficult is quickly assessing and comparing different results: there is no \"canonical\" transcriptome visualization\n",
    "* Several approaches exist for producing short numerical reports (such as [transrate](http://hibberdlab.com/transrate/)), but few or none that I'm aware of for generating visualizations."
   ]
  },
  {
   "cell_type": "markdown",
   "metadata": {
    "slideshow": {
     "slide_type": "slide"
    }
   },
   "source": [
    "## The Project\n",
    "\n",
    "* I aim to develop a new method for producing summary visualizations of transcriptomes based on established phylogenetic methods.\n",
    "* This will serve as a means of assessing the *annotation quality* of a transcriptome, and indirectly assessing the *assembly quality*.\n",
    "* This method will project annotated genes on a known phylogeny to give an at-a-glance view of annotation quality."
   ]
  },
  {
   "cell_type": "markdown",
   "metadata": {
    "slideshow": {
     "slide_type": "subslide"
    }
   },
   "source": [
    "### An example pylogeny rendered as a sunburst\n",
    "\n",
    "* The following is an example of the ITIS phylogeny rendered as a sunburst using d3. The final product will have sizing based on the number of annotated genes for a clade and coloring based on kingdom.\n",
    "* I also aim to use a measurement of pylogenetic signal to produce quantitative results."
   ]
  },
  {
   "cell_type": "markdown",
   "metadata": {
    "slideshow": {
     "slide_type": "subslide"
    }
   },
   "source": [
    "![example](example.png)"
   ]
  },
  {
   "cell_type": "markdown",
   "metadata": {
    "slideshow": {
     "slide_type": "slide"
    }
   },
   "source": [
    "## Challenges\n",
    "\n",
    "* There are many phylogenetic methods and varying quality within existing phylogenies.\n",
    "* Performance on such large trees could be an issue.\n",
    "* Assessing the intuitiveness of the method is an open question."
   ]
  },
  {
   "cell_type": "markdown",
   "metadata": {
    "slideshow": {
     "slide_type": "slide"
    }
   },
   "source": [
    "## Further Work\n",
    "\n",
    "This method will be implemented within the framework of an existing annotator that I maintain: https://github.com/camillescott/dammit\n",
    "\n",
    "It will be implemented along with a more feature-complete annotation explorer. Using this existing annotator alleviates a lot of the installation burden for potential users and provides a way of testing the method on many different datasets in a manner which is alread automated."
   ]
  },
  {
   "cell_type": "markdown",
   "metadata": {
    "slideshow": {
     "slide_type": "subslide"
    }
   },
   "source": [
    "### The Explorer\n",
    "\n",
    "This will have at least four panes:\n",
    "\n",
    "1. The summary visualization pane;\n",
    "2. One to view subtrees of the summary and view metadata such as the gene identifiers and signal;\n",
    "3. One to view gene models and alignments, built on the [GenomeD3Plot](https://github.com/lairdm/islandplot);\n",
    "4. One to view full gene information and metadata, using the API provided by [mygene.info](mygene.info).\n"
   ]
  },
  {
   "cell_type": "markdown",
   "metadata": {
    "slideshow": {
     "slide_type": "subslide"
    }
   },
   "source": [
    "### Implementation Details\n",
    "\n",
    "* The annotator is implemented in Python.\n",
    "* Web server will be done with the python library flask.\n",
    "* The main visualization will be D3.js, with HTML and Javascript for the explorer.\n",
    "* The annotator already helps manage the installation of other analysis software."
   ]
  },
  {
   "cell_type": "code",
   "execution_count": 5,
   "metadata": {
    "collapsed": true,
    "slideshow": {
     "slide_type": "fragment"
    }
   },
   "outputs": [],
   "source": [
    "# the annotator is fully exposed as a Python package as well\n",
    "# some parsers\n",
    "from dammit.parsers import cmscan_to_df_iter\n",
    "# the actual annotation app\n",
    "from dammit import app"
   ]
  },
  {
   "cell_type": "markdown",
   "metadata": {
    "slideshow": {
     "slide_type": "slide"
    }
   },
   "source": [
    "## References\n",
    "```\n",
    "Bostock, Michael, Vadim Ogievetsky, and Jeffrey Heer. 2011. “D3: Data-Driven Documents.” IEEE Trans. Visualization & Comp. Graphics (Proc. InfoVis). http://vis.stanford.edu/papers/d3.\n",
    "Laird, Matthew R., Morgan G.I. Langille, and Fiona S.L. Brinkman. 2015. “GenomeD3Plot: A Library for Rich, Interactive Visualizations of Genomic Data in Web Applications.” Bioinformatics 31 (20): 3348–49. doi:10.1093/bioinformatics/btv376.\n",
    "Revell, Liam, Luke Harmon, and David Collar. 2008. “Phylogenetic Sig- nal, Evolutionary Process, and Rate.” Systematic Biology 57 (4): 591–601. doi:10.1080/10635150802302427.\n",
    "Sayers, E. W., T. Barrett, D. A. Benson, S. H. Bryant, K. Canese, V. Chetvernin, D. M. Church, et al. 2009. “Database Resources of the National Center for Biotechnology Information.” Nucleic Acids Research 37 (Database): D5–D15. doi:10.1093/nar/gkn741.\n",
    "Scott, Camille. 2016. “dammit: An Open and Accessible de Novo Transcriptome Annotator.” In Prep.\n",
    "Wu, Chunlei, Ian MacLeod, and Andrew I. Su. 2013. “BioGPS and MyGene.info: Organizing Online, Gene-Centric Information.” Nucleic Acids Research 41 (D1): D561–65. doi:10.1093/nar/gks1114.\n",
    "```"
   ]
  }
 ],
 "metadata": {
  "celltoolbar": "Slideshow",
  "kernelspec": {
   "display_name": "Python 2",
   "language": "python",
   "name": "python2"
  },
  "language_info": {
   "codemirror_mode": {
    "name": "ipython",
    "version": 2
   },
   "file_extension": ".py",
   "mimetype": "text/x-python",
   "name": "python",
   "nbconvert_exporter": "python",
   "pygments_lexer": "ipython2",
   "version": "2.7.11"
  }
 },
 "nbformat": 4,
 "nbformat_minor": 0
}
